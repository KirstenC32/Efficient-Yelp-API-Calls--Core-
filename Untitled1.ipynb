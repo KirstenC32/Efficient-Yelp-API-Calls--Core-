{
 "cells": [
  {
   "cell_type": "code",
   "execution_count": 3,
   "id": "09f01142-b806-403e-8759-a1d77617bf8d",
   "metadata": {},
   "outputs": [],
   "source": [
    "# Standard Imports\n",
    "import numpy as np\n",
    "import pandas as pd\n",
    "import matplotlib.pyplot as plt\n",
    "import seaborn as sns\n",
    "# Additional Imports\n",
    "import os, json, math, time\n",
    "from yelpapi import YelpAPI\n",
    "from tqdm.notebook import tqdm_notebook\n",
    "\n"
   ]
  },
  {
   "cell_type": "code",
   "execution_count": 4,
   "id": "41601ff6-22ba-4910-8ba3-63543c08cfc0",
   "metadata": {},
   "outputs": [
    {
     "data": {
      "text/plain": [
       "dict_keys(['client-id', 'api-key'])"
      ]
     },
     "execution_count": 4,
     "metadata": {},
     "output_type": "execute_result"
    }
   ],
   "source": [
    "with open('/Users/12103/.secret/yelp_api.json') as f:\n",
    "    login = json.load(f)\n",
    "login.keys()"
   ]
  },
  {
   "cell_type": "code",
   "execution_count": 5,
   "id": "8c23e371-72cf-4633-92ef-76a97c8cd437",
   "metadata": {},
   "outputs": [
    {
     "data": {
      "text/plain": [
       "<yelpapi.yelpapi.YelpAPI at 0x191c0a8a0e0>"
      ]
     },
     "execution_count": 5,
     "metadata": {},
     "output_type": "execute_result"
    }
   ],
   "source": [
    "yelp_api = YelpAPI(login['api-key'], timeout_s=5.0)\n",
    "yelp_api"
   ]
  },
  {
   "cell_type": "code",
   "execution_count": 6,
   "id": "1cf7ac9a-0c72-4782-ab1b-12104da4b61d",
   "metadata": {},
   "outputs": [],
   "source": [
    "# set our API call parameters \n",
    "LOCATION = 'Austin,TX'\n",
    "TERM = 'barbeque'"
   ]
  },
  {
   "cell_type": "code",
   "execution_count": 8,
   "id": "9bc072f8-a94c-45f0-9ace-f80f89ab693b",
   "metadata": {},
   "outputs": [
    {
     "data": {
      "text/plain": [
       "'Data/results_in_progress_Austin_BBQ.json'"
      ]
     },
     "execution_count": 8,
     "metadata": {},
     "output_type": "execute_result"
    }
   ],
   "source": [
    "# Specifying JSON_FILE filename (can include a folder)\n",
    "# include the search terms in the filename\n",
    "JSON_FILE = \"Data/results_in_progress_Austin_BBQ.json\"\n",
    "JSON_FILE"
   ]
  },
  {
   "cell_type": "code",
   "execution_count": 9,
   "id": "5b71d781-c12c-4262-9a77-be96dcca83fe",
   "metadata": {},
   "outputs": [
    {
     "name": "stdout",
     "output_type": "stream",
     "text": [
      "[i] Data/results_in_progress_Austin_BBQ.json not found. Saving empty list to file.\n"
     ]
    }
   ],
   "source": [
    "## Check if JSON_FILE exists\n",
    "file_exists = os.path.isfile(JSON_FILE)\n",
    "## If it does not exist: \n",
    "if file_exists == False:\n",
    "    \n",
    "    ## CREATE ANY NEEDED FOLDERS\n",
    "    # Get the Folder Name only\n",
    "    folder = os.path.dirname(JSON_FILE)\n",
    "    ## If JSON_FILE included a folder:\n",
    "    if len(folder)>0:\n",
    "        # create the folder\n",
    "        os.makedirs(folder,exist_ok=True)\n",
    "        \n",
    "        \n",
    "    ## INFORM USER AND SAVE EMPTY LIST\n",
    "    print(f'[i] {JSON_FILE} not found. Saving empty list to file.')\n",
    "    \n",
    "    \n",
    "    # save an empty list\n",
    "    with open(JSON_FILE,'w') as f:\n",
    "        json.dump([],f)  \n",
    "# If it exists, inform user\n",
    "else:\n",
    "    print(f\"[i] {JSON_FILE} already exists.\")"
   ]
  },
  {
   "cell_type": "code",
   "execution_count": 10,
   "id": "8e3ccdf8-1e2e-4cd7-80e8-198064787d48",
   "metadata": {},
   "outputs": [
    {
     "name": "stdout",
     "output_type": "stream",
     "text": [
      "- 0 previous results found.\n"
     ]
    }
   ],
   "source": [
    "## Load previous results and use len of results for offset\n",
    "with open(JSON_FILE,'r') as f:\n",
    "    previous_results = json.load(f)\n",
    "    \n",
    "## set offset based on previous results\n",
    "n_results = len(previous_results)\n",
    "print(f'- {n_results} previous results found.')\n"
   ]
  },
  {
   "cell_type": "code",
   "execution_count": 11,
   "id": "88713f8a-7db9-424b-bfc2-7c5ba5b80b1b",
   "metadata": {},
   "outputs": [
    {
     "data": {
      "text/plain": [
       "dict_keys(['businesses', 'total', 'region'])"
      ]
     },
     "execution_count": 11,
     "metadata": {},
     "output_type": "execute_result"
    }
   ],
   "source": [
    "# use our yelp_api variable's search_query method to perform our API call\n",
    "results = yelp_api.search_query(location=LOCATION,\n",
    "                                term=TERM,\n",
    "                               offset=n_results)\n",
    "results.keys()"
   ]
  },
  {
   "cell_type": "code",
   "execution_count": 12,
   "id": "007300b3-8529-412d-b389-71e8ca12f98c",
   "metadata": {},
   "outputs": [
    {
     "data": {
      "text/plain": [
       "2300"
      ]
     },
     "execution_count": 12,
     "metadata": {},
     "output_type": "execute_result"
    }
   ],
   "source": [
    "## How many results total?\n",
    "total_results = results['total']\n",
    "total_results"
   ]
  },
  {
   "cell_type": "code",
   "execution_count": 13,
   "id": "ec18e186-8239-4086-815c-4274a6c58862",
   "metadata": {},
   "outputs": [
    {
     "data": {
      "text/plain": [
       "20"
      ]
     },
     "execution_count": 13,
     "metadata": {},
     "output_type": "execute_result"
    }
   ],
   "source": [
    "## How many did we get the details for?\n",
    "results_per_page = len(results['businesses'])\n",
    "results_per_page"
   ]
  },
  {
   "cell_type": "code",
   "execution_count": 14,
   "id": "df67f941-c08e-40db-ad78-87a118f0dfdf",
   "metadata": {},
   "outputs": [
    {
     "data": {
      "text/plain": [
       "115"
      ]
     },
     "execution_count": 14,
     "metadata": {},
     "output_type": "execute_result"
    }
   ],
   "source": [
    "# Import additional packages for controlling our loop\n",
    "import time, math\n",
    "# Use math.ceil to round up for the total number of pages of results.\n",
    "n_pages = math.ceil((results['total']-n_results)/ results_per_page)\n",
    "n_pages"
   ]
  },
  {
   "cell_type": "code",
   "execution_count": 15,
   "id": "0974a0b7-4b32-4681-b07d-d11ab2a18036",
   "metadata": {},
   "outputs": [],
   "source": [
    "# join new results with old list with extend and save to file\n",
    "previous_results.extend(results['businesses'])  \n",
    "with open(JSON_FILE,'w') as f:\n",
    "     json.dump(previous_results,f)"
   ]
  },
  {
   "cell_type": "code",
   "execution_count": 16,
   "id": "db43d8c1-d644-465d-b849-4729188c2ef4",
   "metadata": {},
   "outputs": [
    {
     "data": {
      "application/vnd.jupyter.widget-view+json": {
       "model_id": "33068b74d2b142a5a3138f04cfa87cc9",
       "version_major": 2,
       "version_minor": 0
      },
      "text/plain": [
       "  0%|          | 0/115 [00:00<?, ?it/s]"
      ]
     },
     "metadata": {},
     "output_type": "display_data"
    }
   ],
   "source": [
    "from tqdm.notebook import tqdm_notebook\n",
    "import time\n",
    "for i in tqdm_notebook(range(n_pages)):\n",
    "    # adds 200 ms pause\n",
    "    time.sleep(.2) "
   ]
  },
  {
   "cell_type": "code",
   "execution_count": 17,
   "id": "95e391e1-a984-4a38-9151-958e79182eaf",
   "metadata": {},
   "outputs": [
    {
     "data": {
      "application/vnd.jupyter.widget-view+json": {
       "model_id": "f285e0a2c0ba46a0807ad7420290a5a6",
       "version_major": 2,
       "version_minor": 0
      },
      "text/plain": [
       "  0%|          | 0/115 [00:00<?, ?it/s]"
      ]
     },
     "metadata": {},
     "output_type": "display_data"
    },
    {
     "ename": "HTTPError",
     "evalue": "400 Client Error: Bad Request for url: https://api.yelp.com/v3/businesses/search?location=Austin%2CTX&term=barbeque&offset=1000",
     "output_type": "error",
     "traceback": [
      "\u001b[1;31m---------------------------------------------------------------------------\u001b[0m",
      "\u001b[1;31mHTTPError\u001b[0m                                 Traceback (most recent call last)",
      "Cell \u001b[1;32mIn[17], line 9\u001b[0m\n\u001b[0;32m      7\u001b[0m n_results \u001b[38;5;241m=\u001b[39m \u001b[38;5;28mlen\u001b[39m(previous_results)\n\u001b[0;32m      8\u001b[0m \u001b[38;5;66;03m## use n_results as the OFFSET \u001b[39;00m\n\u001b[1;32m----> 9\u001b[0m results \u001b[38;5;241m=\u001b[39m \u001b[43myelp_api\u001b[49m\u001b[38;5;241;43m.\u001b[39;49m\u001b[43msearch_query\u001b[49m\u001b[43m(\u001b[49m\u001b[43mlocation\u001b[49m\u001b[38;5;241;43m=\u001b[39;49m\u001b[43mLOCATION\u001b[49m\u001b[43m,\u001b[49m\n\u001b[0;32m     10\u001b[0m \u001b[43m                                \u001b[49m\u001b[43mterm\u001b[49m\u001b[38;5;241;43m=\u001b[39;49m\u001b[43mTERM\u001b[49m\u001b[43m,\u001b[49m\u001b[43m \u001b[49m\n\u001b[0;32m     11\u001b[0m \u001b[43m                                \u001b[49m\u001b[43moffset\u001b[49m\u001b[38;5;241;43m=\u001b[39;49m\u001b[43mn_results\u001b[49m\u001b[43m)\u001b[49m\n\u001b[0;32m     13\u001b[0m \u001b[38;5;66;03m## append new results and save to file\u001b[39;00m\n\u001b[0;32m     14\u001b[0m previous_results\u001b[38;5;241m.\u001b[39mextend(results[\u001b[38;5;124m'\u001b[39m\u001b[38;5;124mbusinesses\u001b[39m\u001b[38;5;124m'\u001b[39m])\n",
      "File \u001b[1;32m~\\anaconda3\\envs\\dojo-env\\lib\\site-packages\\yelpapi\\yelpapi.py:251\u001b[0m, in \u001b[0;36mYelpAPI.search_query\u001b[1;34m(self, **kwargs)\u001b[0m\n\u001b[0;32m    247\u001b[0m \u001b[38;5;28;01mif\u001b[39;00m \u001b[38;5;129;01mnot\u001b[39;00m kwargs\u001b[38;5;241m.\u001b[39mget(\u001b[38;5;124m'\u001b[39m\u001b[38;5;124mlocation\u001b[39m\u001b[38;5;124m'\u001b[39m) \u001b[38;5;129;01mand\u001b[39;00m (\u001b[38;5;129;01mnot\u001b[39;00m kwargs\u001b[38;5;241m.\u001b[39mget(\u001b[38;5;124m'\u001b[39m\u001b[38;5;124mlatitude\u001b[39m\u001b[38;5;124m'\u001b[39m) \u001b[38;5;129;01mor\u001b[39;00m \u001b[38;5;129;01mnot\u001b[39;00m kwargs\u001b[38;5;241m.\u001b[39mget(\u001b[38;5;124m'\u001b[39m\u001b[38;5;124mlongitude\u001b[39m\u001b[38;5;124m'\u001b[39m)):\n\u001b[0;32m    248\u001b[0m     \u001b[38;5;28;01mraise\u001b[39;00m \u001b[38;5;167;01mValueError\u001b[39;00m(\u001b[38;5;124m'\u001b[39m\u001b[38;5;124mA valid location (parameter \u001b[39m\u001b[38;5;124m\"\u001b[39m\u001b[38;5;124mlocation\u001b[39m\u001b[38;5;124m\"\u001b[39m\u001b[38;5;124m) or latitude/longitude combination \u001b[39m\u001b[38;5;124m'\u001b[39m\n\u001b[0;32m    249\u001b[0m                      \u001b[38;5;124m'\u001b[39m\u001b[38;5;124m(parameters \u001b[39m\u001b[38;5;124m\"\u001b[39m\u001b[38;5;124mlatitude\u001b[39m\u001b[38;5;124m\"\u001b[39m\u001b[38;5;124m and \u001b[39m\u001b[38;5;124m\"\u001b[39m\u001b[38;5;124mlongitude\u001b[39m\u001b[38;5;124m\"\u001b[39m\u001b[38;5;124m) must be provided.\u001b[39m\u001b[38;5;124m'\u001b[39m)\n\u001b[1;32m--> 251\u001b[0m \u001b[38;5;28;01mreturn\u001b[39;00m \u001b[38;5;28mself\u001b[39m\u001b[38;5;241m.\u001b[39m_query(SEARCH_API_URL, \u001b[38;5;241m*\u001b[39m\u001b[38;5;241m*\u001b[39mkwargs)\n",
      "File \u001b[1;32m~\\anaconda3\\envs\\dojo-env\\lib\\site-packages\\yelpapi\\yelpapi.py:293\u001b[0m, in \u001b[0;36mYelpAPI._query\u001b[1;34m(self, url, **kwargs)\u001b[0m\n\u001b[0;32m    286\u001b[0m parameters \u001b[38;5;241m=\u001b[39m YelpAPI\u001b[38;5;241m.\u001b[39m_get_clean_parameters(kwargs)\n\u001b[0;32m    287\u001b[0m response \u001b[38;5;241m=\u001b[39m \u001b[38;5;28mself\u001b[39m\u001b[38;5;241m.\u001b[39m_yelp_session\u001b[38;5;241m.\u001b[39mget(\n\u001b[0;32m    288\u001b[0m     url,\n\u001b[0;32m    289\u001b[0m     headers\u001b[38;5;241m=\u001b[39m\u001b[38;5;28mself\u001b[39m\u001b[38;5;241m.\u001b[39m_headers,\n\u001b[0;32m    290\u001b[0m     params\u001b[38;5;241m=\u001b[39mparameters,\n\u001b[0;32m    291\u001b[0m     timeout\u001b[38;5;241m=\u001b[39m\u001b[38;5;28mself\u001b[39m\u001b[38;5;241m.\u001b[39m_timeout_s,\n\u001b[0;32m    292\u001b[0m )\n\u001b[1;32m--> 293\u001b[0m \u001b[43mresponse\u001b[49m\u001b[38;5;241;43m.\u001b[39;49m\u001b[43mraise_for_status\u001b[49m\u001b[43m(\u001b[49m\u001b[43m)\u001b[49m  \u001b[38;5;66;03m# will raise error if error status code received: https://requests.readthedocs.io/en/latest/api/#requests.Response.raise_for_status\u001b[39;00m\n\u001b[0;32m    295\u001b[0m response_json \u001b[38;5;241m=\u001b[39m response\u001b[38;5;241m.\u001b[39mjson()  \u001b[38;5;66;03m# shouldn't happen, but this will raise a ValueError if the response isn't JSON\u001b[39;00m\n\u001b[0;32m    297\u001b[0m \u001b[38;5;66;03m# Yelp can return one of many different API errors, so check for one of them.\u001b[39;00m\n\u001b[0;32m    298\u001b[0m \u001b[38;5;66;03m# The Yelp Fusion API does not yet have a complete list of errors, but this is on the TODO list; see\u001b[39;00m\n\u001b[0;32m    299\u001b[0m \u001b[38;5;66;03m# https://github.com/Yelp/yelp-fusion/issues/95 for more info.\u001b[39;00m\n",
      "File \u001b[1;32m~\\anaconda3\\envs\\dojo-env\\lib\\site-packages\\requests\\models.py:1021\u001b[0m, in \u001b[0;36mResponse.raise_for_status\u001b[1;34m(self)\u001b[0m\n\u001b[0;32m   1016\u001b[0m     http_error_msg \u001b[38;5;241m=\u001b[39m (\n\u001b[0;32m   1017\u001b[0m         \u001b[38;5;124mf\u001b[39m\u001b[38;5;124m\"\u001b[39m\u001b[38;5;132;01m{\u001b[39;00m\u001b[38;5;28mself\u001b[39m\u001b[38;5;241m.\u001b[39mstatus_code\u001b[38;5;132;01m}\u001b[39;00m\u001b[38;5;124m Server Error: \u001b[39m\u001b[38;5;132;01m{\u001b[39;00mreason\u001b[38;5;132;01m}\u001b[39;00m\u001b[38;5;124m for url: \u001b[39m\u001b[38;5;132;01m{\u001b[39;00m\u001b[38;5;28mself\u001b[39m\u001b[38;5;241m.\u001b[39murl\u001b[38;5;132;01m}\u001b[39;00m\u001b[38;5;124m\"\u001b[39m\n\u001b[0;32m   1018\u001b[0m     )\n\u001b[0;32m   1020\u001b[0m \u001b[38;5;28;01mif\u001b[39;00m http_error_msg:\n\u001b[1;32m-> 1021\u001b[0m     \u001b[38;5;28;01mraise\u001b[39;00m HTTPError(http_error_msg, response\u001b[38;5;241m=\u001b[39m\u001b[38;5;28mself\u001b[39m)\n",
      "\u001b[1;31mHTTPError\u001b[0m: 400 Client Error: Bad Request for url: https://api.yelp.com/v3/businesses/search?location=Austin%2CTX&term=barbeque&offset=1000"
     ]
    }
   ],
   "source": [
    "for i in tqdm_notebook( range(1,n_pages+1)):\n",
    "    \n",
    "    ## Read in results in progress file and check the length\n",
    "    with open(JSON_FILE, 'r') as f:\n",
    "        previous_results = json.load(f)\n",
    "    ## save number of results for to use as offset\n",
    "    n_results = len(previous_results)\n",
    "    ## use n_results as the OFFSET \n",
    "    results = yelp_api.search_query(location=LOCATION,\n",
    "                                    term=TERM, \n",
    "                                    offset=n_results)\n",
    "    \n",
    "    ## append new results and save to file\n",
    "    previous_results.extend(results['businesses'])\n",
    "    \n",
    "    with open(JSON_FILE,'w') as f:\n",
    "        json.dump(previous_results,f)\n",
    "    \n",
    "    # add a 200ms pause\n",
    "    time.sleep(.2)"
   ]
  },
  {
   "cell_type": "code",
   "execution_count": 18,
   "id": "dbbe8261-d6d3-4dd3-b62d-87f999857d04",
   "metadata": {},
   "outputs": [
    {
     "data": {
      "text/plain": [
       "False"
      ]
     },
     "execution_count": 18,
     "metadata": {},
     "output_type": "execute_result"
    }
   ],
   "source": [
    "## delete file and confirm it no longer exits.\n",
    "os.remove(JSON_FILE)\n",
    "os.path.isfile(JSON_FILE)"
   ]
  },
  {
   "cell_type": "code",
   "execution_count": 19,
   "id": "d78304c6-6008-4dcb-8ec6-550755b313b2",
   "metadata": {},
   "outputs": [],
   "source": [
    "def create_json_file(JSON_FILE,  delete_if_exists=False):\n",
    "    \n",
    "    ## Check if JSON_FILE exists\n",
    "    file_exists = os.path.isfile(JSON_FILE)\n",
    "    \n",
    "    ## If it DOES exist:\n",
    "    if file_exists == True:\n",
    "        \n",
    "        ## Check if user wants to delete if exists\n",
    "        if delete_if_exists==True:\n",
    "            \n",
    "            print(f\"[!] {JSON_FILE} already exists. Deleting previous file...\")\n",
    "            ## delete file and confirm it no longer exits.\n",
    "            os.remove(JSON_FILE)\n",
    "            ## Recursive call to function after old file deleted\n",
    "            create_json_file(JSON_FILE,delete_if_exists=False)\n",
    "        else:\n",
    "            print(f\"[i] {JSON_FILE} already exists.\")            \n",
    "            \n",
    "            \n",
    "    ## If it does NOT exist:\n",
    "    else:\n",
    "        \n",
    "        ## INFORM USER AND SAVE EMPTY LIST\n",
    "        print(f\"[i] {JSON_FILE} not found. Saving empty list to new file.\")\n",
    "        \n",
    "        ## CREATE ANY NEEDED FOLDERS\n",
    "        # Get the Folder Name only\n",
    "        folder = os.path.dirname(JSON_FILE)\n",
    "        \n",
    "        ## If JSON_FILE included a folder:\n",
    "        if len(folder)>0:\n",
    "            # create the folder\n",
    "            os.makedirs(folder,exist_ok=True)\n",
    "        ## Save empty list to start the json file\n",
    "        with open(JSON_FILE,'w') as f:\n",
    "            json.dump([],f)  \n",
    "\n"
   ]
  },
  {
   "cell_type": "code",
   "execution_count": 20,
   "id": "5bbb8bf6-d665-4bc1-b3c1-c079c3b1b20c",
   "metadata": {},
   "outputs": [
    {
     "name": "stdout",
     "output_type": "stream",
     "text": [
      "[i] Data/results_in_progress_Austin_BBQ.json not found. Saving empty list to new file.\n",
      "- 0 previous results found.\n"
     ]
    },
    {
     "data": {
      "text/plain": [
       "115"
      ]
     },
     "execution_count": 20,
     "metadata": {},
     "output_type": "execute_result"
    }
   ],
   "source": [
    "## Create a new empty json file (exist the previous if it exists)\n",
    "create_json_file(JSON_FILE, delete_if_exists=True)\n",
    "## Load previous results and use len of results for offset\n",
    "with open(JSON_FILE,'r') as f:\n",
    "    previous_results = json.load(f)\n",
    "    \n",
    "## set offset based on previous results\n",
    "n_results = len(previous_results)\n",
    "print(f'- {n_results} previous results found.')\n",
    "# use our yelp_api variable's search_query method to perform our API call\n",
    "results = yelp_api.search_query(location=LOCATION,\n",
    "                                term=TERM,\n",
    "                               offset=n_results)\n",
    "## How many results total?\n",
    "total_results = results['total']\n",
    "## How many did we get the details for?\n",
    "results_per_page = len(results['businesses'])\n",
    "# Use math.ceil to round up for the total number of pages of results.\n",
    "n_pages = math.ceil((results['total']-n_results)/ results_per_page)\n",
    "n_pages\n",
    "\n"
   ]
  },
  {
   "cell_type": "code",
   "execution_count": 21,
   "id": "ac6582b5-2c39-4584-a54e-00a5ee896a5c",
   "metadata": {},
   "outputs": [
    {
     "data": {
      "application/vnd.jupyter.widget-view+json": {
       "model_id": "7f9c84db7e234c62a6e0ed7e185c4614",
       "version_major": 2,
       "version_minor": 0
      },
      "text/plain": [
       "  0%|          | 0/115 [00:00<?, ?it/s]"
      ]
     },
     "metadata": {},
     "output_type": "display_data"
    },
    {
     "name": "stdout",
     "output_type": "stream",
     "text": [
      "Exceeded 1000 api calls. Stopping loop.\n"
     ]
    }
   ],
   "source": [
    "for i in tqdm_notebook( range(1,n_pages+1)):\n",
    "    \n",
    "    ## Read in results in progress file and check the length\n",
    "    with open(JSON_FILE, 'r') as f:\n",
    "        previous_results = json.load(f)\n",
    "    ## save number of results for to use as offset\n",
    "    n_results = len(previous_results)\n",
    "    \n",
    "    if (n_results + results_per_page) > 1000:\n",
    "        print('Exceeded 1000 api calls. Stopping loop.')\n",
    "        break\n",
    "    \n",
    "    ## use n_results as the OFFSET \n",
    "    results = yelp_api.search_query(location=LOCATION,\n",
    "                                    term=TERM, \n",
    "                                    offset=n_results)\n",
    "    \n",
    "    \n",
    "    \n",
    "    ## append new results and save to file\n",
    "    previous_results.extend(results['businesses'])\n",
    "    \n",
    "    # display(previous_results)\n",
    "    with open(JSON_FILE,'w') as f:\n",
    "        json.dump(previous_results,f)\n",
    "    \n",
    "    time.sleep(.2)\n"
   ]
  },
  {
   "cell_type": "code",
   "execution_count": 22,
   "id": "f78237d9-f323-4be7-9e99-7d7d5d7d5902",
   "metadata": {},
   "outputs": [
    {
     "data": {
      "text/html": [
       "<div>\n",
       "<style scoped>\n",
       "    .dataframe tbody tr th:only-of-type {\n",
       "        vertical-align: middle;\n",
       "    }\n",
       "\n",
       "    .dataframe tbody tr th {\n",
       "        vertical-align: top;\n",
       "    }\n",
       "\n",
       "    .dataframe thead th {\n",
       "        text-align: right;\n",
       "    }\n",
       "</style>\n",
       "<table border=\"1\" class=\"dataframe\">\n",
       "  <thead>\n",
       "    <tr style=\"text-align: right;\">\n",
       "      <th></th>\n",
       "      <th>id</th>\n",
       "      <th>alias</th>\n",
       "      <th>name</th>\n",
       "      <th>image_url</th>\n",
       "      <th>is_closed</th>\n",
       "      <th>url</th>\n",
       "      <th>review_count</th>\n",
       "      <th>categories</th>\n",
       "      <th>rating</th>\n",
       "      <th>coordinates</th>\n",
       "      <th>transactions</th>\n",
       "      <th>price</th>\n",
       "      <th>location</th>\n",
       "      <th>phone</th>\n",
       "      <th>display_phone</th>\n",
       "      <th>distance</th>\n",
       "    </tr>\n",
       "  </thead>\n",
       "  <tbody>\n",
       "    <tr>\n",
       "      <th>0</th>\n",
       "      <td>YZs1gNSh_sN8JmN_nrpxeA</td>\n",
       "      <td>terry-blacks-barbecue-austin</td>\n",
       "      <td>Terry Black's Barbecue</td>\n",
       "      <td>https://s3-media2.fl.yelpcdn.com/bphoto/jUh-UQ...</td>\n",
       "      <td>False</td>\n",
       "      <td>https://www.yelp.com/biz/terry-blacks-barbecue...</td>\n",
       "      <td>6542</td>\n",
       "      <td>[{'alias': 'bbq', 'title': 'Barbeque'}, {'alia...</td>\n",
       "      <td>4.5</td>\n",
       "      <td>{'latitude': 30.2596915716907, 'longitude': -9...</td>\n",
       "      <td>[delivery]</td>\n",
       "      <td>$$</td>\n",
       "      <td>{'address1': '1003 Barton Springs Rd', 'addres...</td>\n",
       "      <td>+15123945899</td>\n",
       "      <td>(512) 394-5899</td>\n",
       "      <td>5063.210482</td>\n",
       "    </tr>\n",
       "    <tr>\n",
       "      <th>1</th>\n",
       "      <td>MGzro82Fi4LYvc86acoONQ</td>\n",
       "      <td>franklin-barbecue-austin</td>\n",
       "      <td>Franklin Barbecue</td>\n",
       "      <td>https://s3-media1.fl.yelpcdn.com/bphoto/MsXhN-...</td>\n",
       "      <td>False</td>\n",
       "      <td>https://www.yelp.com/biz/franklin-barbecue-aus...</td>\n",
       "      <td>5925</td>\n",
       "      <td>[{'alias': 'bbq', 'title': 'Barbeque'}]</td>\n",
       "      <td>4.5</td>\n",
       "      <td>{'latitude': 30.2701348, 'longitude': -97.7313...</td>\n",
       "      <td>[delivery]</td>\n",
       "      <td>$$</td>\n",
       "      <td>{'address1': '900 E 11th St', 'address2': '', ...</td>\n",
       "      <td>+15126531187</td>\n",
       "      <td>(512) 653-1187</td>\n",
       "      <td>4645.277697</td>\n",
       "    </tr>\n",
       "    <tr>\n",
       "      <th>2</th>\n",
       "      <td>EPkf96UcG2W3ttlQphWUGQ</td>\n",
       "      <td>la-barbecue-austin-3</td>\n",
       "      <td>la Barbecue</td>\n",
       "      <td>https://s3-media2.fl.yelpcdn.com/bphoto/ajFK7q...</td>\n",
       "      <td>False</td>\n",
       "      <td>https://www.yelp.com/biz/la-barbecue-austin-3?...</td>\n",
       "      <td>2891</td>\n",
       "      <td>[{'alias': 'bbq', 'title': 'Barbeque'}, {'alia...</td>\n",
       "      <td>4.5</td>\n",
       "      <td>{'latitude': 30.254551688240156, 'longitude': ...</td>\n",
       "      <td>[delivery]</td>\n",
       "      <td>$$</td>\n",
       "      <td>{'address1': '2401 E Cesar Chavez', 'address2'...</td>\n",
       "      <td>+15126059696</td>\n",
       "      <td>(512) 605-9696</td>\n",
       "      <td>6820.435333</td>\n",
       "    </tr>\n",
       "    <tr>\n",
       "      <th>3</th>\n",
       "      <td>qLJUDPOamhLdbtfbcWyHnA</td>\n",
       "      <td>the-salt-lick-bbq-driftwood</td>\n",
       "      <td>The Salt Lick BBQ</td>\n",
       "      <td>https://s3-media4.fl.yelpcdn.com/bphoto/4qv5K5...</td>\n",
       "      <td>False</td>\n",
       "      <td>https://www.yelp.com/biz/the-salt-lick-bbq-dri...</td>\n",
       "      <td>5424</td>\n",
       "      <td>[{'alias': 'bbq', 'title': 'Barbeque'}]</td>\n",
       "      <td>4.0</td>\n",
       "      <td>{'latitude': 30.131736, 'longitude': -98.013335}</td>\n",
       "      <td>[]</td>\n",
       "      <td>$$</td>\n",
       "      <td>{'address1': '18300 Fm 1826', 'address2': '', ...</td>\n",
       "      <td>+15128584959</td>\n",
       "      <td>(512) 858-4959</td>\n",
       "      <td>31226.187448</td>\n",
       "    </tr>\n",
       "    <tr>\n",
       "      <th>4</th>\n",
       "      <td>-zfm3zSoMNkLXyBZqseczw</td>\n",
       "      <td>interstellar-bbq-austin</td>\n",
       "      <td>Interstellar BBQ</td>\n",
       "      <td>https://s3-media4.fl.yelpcdn.com/bphoto/NvLrBR...</td>\n",
       "      <td>False</td>\n",
       "      <td>https://www.yelp.com/biz/interstellar-bbq-aust...</td>\n",
       "      <td>505</td>\n",
       "      <td>[{'alias': 'bbq', 'title': 'Barbeque'}]</td>\n",
       "      <td>4.5</td>\n",
       "      <td>{'latitude': 30.4618814407535, 'longitude': -9...</td>\n",
       "      <td>[delivery]</td>\n",
       "      <td>$$</td>\n",
       "      <td>{'address1': '12233 Ranch Rd 620 N', 'address2...</td>\n",
       "      <td>+15123826248</td>\n",
       "      <td>(512) 382-6248</td>\n",
       "      <td>18265.694211</td>\n",
       "    </tr>\n",
       "  </tbody>\n",
       "</table>\n",
       "</div>"
      ],
      "text/plain": [
       "                       id                         alias  \\\n",
       "0  YZs1gNSh_sN8JmN_nrpxeA  terry-blacks-barbecue-austin   \n",
       "1  MGzro82Fi4LYvc86acoONQ      franklin-barbecue-austin   \n",
       "2  EPkf96UcG2W3ttlQphWUGQ          la-barbecue-austin-3   \n",
       "3  qLJUDPOamhLdbtfbcWyHnA   the-salt-lick-bbq-driftwood   \n",
       "4  -zfm3zSoMNkLXyBZqseczw       interstellar-bbq-austin   \n",
       "\n",
       "                     name                                          image_url  \\\n",
       "0  Terry Black's Barbecue  https://s3-media2.fl.yelpcdn.com/bphoto/jUh-UQ...   \n",
       "1       Franklin Barbecue  https://s3-media1.fl.yelpcdn.com/bphoto/MsXhN-...   \n",
       "2             la Barbecue  https://s3-media2.fl.yelpcdn.com/bphoto/ajFK7q...   \n",
       "3       The Salt Lick BBQ  https://s3-media4.fl.yelpcdn.com/bphoto/4qv5K5...   \n",
       "4        Interstellar BBQ  https://s3-media4.fl.yelpcdn.com/bphoto/NvLrBR...   \n",
       "\n",
       "   is_closed                                                url  review_count  \\\n",
       "0      False  https://www.yelp.com/biz/terry-blacks-barbecue...          6542   \n",
       "1      False  https://www.yelp.com/biz/franklin-barbecue-aus...          5925   \n",
       "2      False  https://www.yelp.com/biz/la-barbecue-austin-3?...          2891   \n",
       "3      False  https://www.yelp.com/biz/the-salt-lick-bbq-dri...          5424   \n",
       "4      False  https://www.yelp.com/biz/interstellar-bbq-aust...           505   \n",
       "\n",
       "                                          categories  rating  \\\n",
       "0  [{'alias': 'bbq', 'title': 'Barbeque'}, {'alia...     4.5   \n",
       "1            [{'alias': 'bbq', 'title': 'Barbeque'}]     4.5   \n",
       "2  [{'alias': 'bbq', 'title': 'Barbeque'}, {'alia...     4.5   \n",
       "3            [{'alias': 'bbq', 'title': 'Barbeque'}]     4.0   \n",
       "4            [{'alias': 'bbq', 'title': 'Barbeque'}]     4.5   \n",
       "\n",
       "                                         coordinates transactions price  \\\n",
       "0  {'latitude': 30.2596915716907, 'longitude': -9...   [delivery]    $$   \n",
       "1  {'latitude': 30.2701348, 'longitude': -97.7313...   [delivery]    $$   \n",
       "2  {'latitude': 30.254551688240156, 'longitude': ...   [delivery]    $$   \n",
       "3   {'latitude': 30.131736, 'longitude': -98.013335}           []    $$   \n",
       "4  {'latitude': 30.4618814407535, 'longitude': -9...   [delivery]    $$   \n",
       "\n",
       "                                            location         phone  \\\n",
       "0  {'address1': '1003 Barton Springs Rd', 'addres...  +15123945899   \n",
       "1  {'address1': '900 E 11th St', 'address2': '', ...  +15126531187   \n",
       "2  {'address1': '2401 E Cesar Chavez', 'address2'...  +15126059696   \n",
       "3  {'address1': '18300 Fm 1826', 'address2': '', ...  +15128584959   \n",
       "4  {'address1': '12233 Ranch Rd 620 N', 'address2...  +15123826248   \n",
       "\n",
       "    display_phone      distance  \n",
       "0  (512) 394-5899   5063.210482  \n",
       "1  (512) 653-1187   4645.277697  \n",
       "2  (512) 605-9696   6820.435333  \n",
       "3  (512) 858-4959  31226.187448  \n",
       "4  (512) 382-6248  18265.694211  "
      ]
     },
     "metadata": {},
     "output_type": "display_data"
    },
    {
     "data": {
      "text/html": [
       "<div>\n",
       "<style scoped>\n",
       "    .dataframe tbody tr th:only-of-type {\n",
       "        vertical-align: middle;\n",
       "    }\n",
       "\n",
       "    .dataframe tbody tr th {\n",
       "        vertical-align: top;\n",
       "    }\n",
       "\n",
       "    .dataframe thead th {\n",
       "        text-align: right;\n",
       "    }\n",
       "</style>\n",
       "<table border=\"1\" class=\"dataframe\">\n",
       "  <thead>\n",
       "    <tr style=\"text-align: right;\">\n",
       "      <th></th>\n",
       "      <th>id</th>\n",
       "      <th>alias</th>\n",
       "      <th>name</th>\n",
       "      <th>image_url</th>\n",
       "      <th>is_closed</th>\n",
       "      <th>url</th>\n",
       "      <th>review_count</th>\n",
       "      <th>categories</th>\n",
       "      <th>rating</th>\n",
       "      <th>coordinates</th>\n",
       "      <th>transactions</th>\n",
       "      <th>price</th>\n",
       "      <th>location</th>\n",
       "      <th>phone</th>\n",
       "      <th>display_phone</th>\n",
       "      <th>distance</th>\n",
       "    </tr>\n",
       "  </thead>\n",
       "  <tbody>\n",
       "    <tr>\n",
       "      <th>995</th>\n",
       "      <td>NuxwiVWnY9l8LnXofbB7LQ</td>\n",
       "      <td>libby-s-lunchbox-cedar-park</td>\n",
       "      <td>Libby’s Lunchbox</td>\n",
       "      <td>https://s3-media4.fl.yelpcdn.com/bphoto/yil_0M...</td>\n",
       "      <td>False</td>\n",
       "      <td>https://www.yelp.com/biz/libby-s-lunchbox-ceda...</td>\n",
       "      <td>3</td>\n",
       "      <td>[{'alias': 'foodtrucks', 'title': 'Food Trucks...</td>\n",
       "      <td>5.0</td>\n",
       "      <td>{'latitude': 30.544825394680224, 'longitude': ...</td>\n",
       "      <td>[]</td>\n",
       "      <td>NaN</td>\n",
       "      <td>{'address1': '5600 183A', 'address2': None, 'a...</td>\n",
       "      <td></td>\n",
       "      <td></td>\n",
       "      <td>27218.206544</td>\n",
       "    </tr>\n",
       "    <tr>\n",
       "      <th>996</th>\n",
       "      <td>sInwcW7OUAvUaNDY1Y7w9g</td>\n",
       "      <td>brew-market-and-cafe-austin</td>\n",
       "      <td>Brew Market &amp; Cafe</td>\n",
       "      <td>https://s3-media4.fl.yelpcdn.com/bphoto/r6-2rX...</td>\n",
       "      <td>False</td>\n",
       "      <td>https://www.yelp.com/biz/brew-market-and-cafe-...</td>\n",
       "      <td>6</td>\n",
       "      <td>[{'alias': 'beer_and_wine', 'title': 'Beer, Wi...</td>\n",
       "      <td>4.5</td>\n",
       "      <td>{'latitude': 30.2889345304199, 'longitude': -9...</td>\n",
       "      <td>[]</td>\n",
       "      <td>$$</td>\n",
       "      <td>{'address1': '3842 Airport Blvd', 'address2': ...</td>\n",
       "      <td>+15124721277</td>\n",
       "      <td>(512) 472-1277</td>\n",
       "      <td>5126.141575</td>\n",
       "    </tr>\n",
       "    <tr>\n",
       "      <th>997</th>\n",
       "      <td>1rvtRi1PjAikHuIWcK4PkA</td>\n",
       "      <td>7-eleven-austin-65</td>\n",
       "      <td>7-Eleven</td>\n",
       "      <td>https://s3-media1.fl.yelpcdn.com/bphoto/unFKUI...</td>\n",
       "      <td>False</td>\n",
       "      <td>https://www.yelp.com/biz/7-eleven-austin-65?ad...</td>\n",
       "      <td>4</td>\n",
       "      <td>[{'alias': 'convenience', 'title': 'Convenienc...</td>\n",
       "      <td>2.5</td>\n",
       "      <td>{'latitude': 30.332840168709, 'longitude': -97...</td>\n",
       "      <td>[pickup, delivery]</td>\n",
       "      <td>$</td>\n",
       "      <td>{'address1': '7114 N Interstate 35', 'address2...</td>\n",
       "      <td>+15124202266</td>\n",
       "      <td>(512) 420-2266</td>\n",
       "      <td>5897.567863</td>\n",
       "    </tr>\n",
       "    <tr>\n",
       "      <th>998</th>\n",
       "      <td>_H1abGPP1ckVIkCgaEXFKw</td>\n",
       "      <td>bb-q-chicken-austin-cedar-park-austin</td>\n",
       "      <td>bb.q Chicken - Austin Cedar Park</td>\n",
       "      <td>https://s3-media2.fl.yelpcdn.com/bphoto/4Y6E-i...</td>\n",
       "      <td>False</td>\n",
       "      <td>https://www.yelp.com/biz/bb-q-chicken-austin-c...</td>\n",
       "      <td>30</td>\n",
       "      <td>[{'alias': 'korean', 'title': 'Korean'}, {'ali...</td>\n",
       "      <td>4.0</td>\n",
       "      <td>{'latitude': 30.479647453589585, 'longitude': ...</td>\n",
       "      <td>[pickup, delivery]</td>\n",
       "      <td>NaN</td>\n",
       "      <td>{'address1': '11301 Lakeline Blvd Ste', 'addre...</td>\n",
       "      <td>+15129920227</td>\n",
       "      <td>(512) 992-0227</td>\n",
       "      <td>19819.819169</td>\n",
       "    </tr>\n",
       "    <tr>\n",
       "      <th>999</th>\n",
       "      <td>CtEGObFKWrjoCw5yh3Nj5w</td>\n",
       "      <td>hopdoddy-burger-bar-austin-5</td>\n",
       "      <td>Hopdoddy Burger Bar</td>\n",
       "      <td>https://s3-media3.fl.yelpcdn.com/bphoto/OaVQh5...</td>\n",
       "      <td>False</td>\n",
       "      <td>https://www.yelp.com/biz/hopdoddy-burger-bar-a...</td>\n",
       "      <td>108</td>\n",
       "      <td>[{'alias': 'burgers', 'title': 'Burgers'}, {'a...</td>\n",
       "      <td>4.0</td>\n",
       "      <td>{'latitude': 30.263778687978153, 'longitude': ...</td>\n",
       "      <td>[pickup, delivery]</td>\n",
       "      <td>$$</td>\n",
       "      <td>{'address1': '1011 E 5th St', 'address2': 'Ste...</td>\n",
       "      <td>+15128287855</td>\n",
       "      <td>(512) 828-7855</td>\n",
       "      <td>5213.615431</td>\n",
       "    </tr>\n",
       "  </tbody>\n",
       "</table>\n",
       "</div>"
      ],
      "text/plain": [
       "                         id                                  alias  \\\n",
       "995  NuxwiVWnY9l8LnXofbB7LQ            libby-s-lunchbox-cedar-park   \n",
       "996  sInwcW7OUAvUaNDY1Y7w9g            brew-market-and-cafe-austin   \n",
       "997  1rvtRi1PjAikHuIWcK4PkA                     7-eleven-austin-65   \n",
       "998  _H1abGPP1ckVIkCgaEXFKw  bb-q-chicken-austin-cedar-park-austin   \n",
       "999  CtEGObFKWrjoCw5yh3Nj5w           hopdoddy-burger-bar-austin-5   \n",
       "\n",
       "                                 name  \\\n",
       "995                  Libby’s Lunchbox   \n",
       "996                Brew Market & Cafe   \n",
       "997                          7-Eleven   \n",
       "998  bb.q Chicken - Austin Cedar Park   \n",
       "999               Hopdoddy Burger Bar   \n",
       "\n",
       "                                             image_url  is_closed  \\\n",
       "995  https://s3-media4.fl.yelpcdn.com/bphoto/yil_0M...      False   \n",
       "996  https://s3-media4.fl.yelpcdn.com/bphoto/r6-2rX...      False   \n",
       "997  https://s3-media1.fl.yelpcdn.com/bphoto/unFKUI...      False   \n",
       "998  https://s3-media2.fl.yelpcdn.com/bphoto/4Y6E-i...      False   \n",
       "999  https://s3-media3.fl.yelpcdn.com/bphoto/OaVQh5...      False   \n",
       "\n",
       "                                                   url  review_count  \\\n",
       "995  https://www.yelp.com/biz/libby-s-lunchbox-ceda...             3   \n",
       "996  https://www.yelp.com/biz/brew-market-and-cafe-...             6   \n",
       "997  https://www.yelp.com/biz/7-eleven-austin-65?ad...             4   \n",
       "998  https://www.yelp.com/biz/bb-q-chicken-austin-c...            30   \n",
       "999  https://www.yelp.com/biz/hopdoddy-burger-bar-a...           108   \n",
       "\n",
       "                                            categories  rating  \\\n",
       "995  [{'alias': 'foodtrucks', 'title': 'Food Trucks...     5.0   \n",
       "996  [{'alias': 'beer_and_wine', 'title': 'Beer, Wi...     4.5   \n",
       "997  [{'alias': 'convenience', 'title': 'Convenienc...     2.5   \n",
       "998  [{'alias': 'korean', 'title': 'Korean'}, {'ali...     4.0   \n",
       "999  [{'alias': 'burgers', 'title': 'Burgers'}, {'a...     4.0   \n",
       "\n",
       "                                           coordinates        transactions  \\\n",
       "995  {'latitude': 30.544825394680224, 'longitude': ...                  []   \n",
       "996  {'latitude': 30.2889345304199, 'longitude': -9...                  []   \n",
       "997  {'latitude': 30.332840168709, 'longitude': -97...  [pickup, delivery]   \n",
       "998  {'latitude': 30.479647453589585, 'longitude': ...  [pickup, delivery]   \n",
       "999  {'latitude': 30.263778687978153, 'longitude': ...  [pickup, delivery]   \n",
       "\n",
       "    price                                           location         phone  \\\n",
       "995   NaN  {'address1': '5600 183A', 'address2': None, 'a...                 \n",
       "996    $$  {'address1': '3842 Airport Blvd', 'address2': ...  +15124721277   \n",
       "997     $  {'address1': '7114 N Interstate 35', 'address2...  +15124202266   \n",
       "998   NaN  {'address1': '11301 Lakeline Blvd Ste', 'addre...  +15129920227   \n",
       "999    $$  {'address1': '1011 E 5th St', 'address2': 'Ste...  +15128287855   \n",
       "\n",
       "      display_phone      distance  \n",
       "995                  27218.206544  \n",
       "996  (512) 472-1277   5126.141575  \n",
       "997  (512) 420-2266   5897.567863  \n",
       "998  (512) 992-0227  19819.819169  \n",
       "999  (512) 828-7855   5213.615431  "
      ]
     },
     "metadata": {},
     "output_type": "display_data"
    }
   ],
   "source": [
    "# load final results\n",
    "final_df = pd.read_json(JSON_FILE)\n",
    "display(final_df.head(), final_df.tail())"
   ]
  },
  {
   "cell_type": "code",
   "execution_count": 23,
   "id": "ed9e29ef-9f8b-48ae-86d0-05d96002c911",
   "metadata": {},
   "outputs": [
    {
     "data": {
      "text/plain": [
       "0"
      ]
     },
     "execution_count": 23,
     "metadata": {},
     "output_type": "execute_result"
    }
   ],
   "source": [
    "# check for duplicate ID's \n",
    "final_df.duplicated(subset='id').sum()"
   ]
  },
  {
   "cell_type": "code",
   "execution_count": 24,
   "id": "4a9bdec5-afa4-4888-9ef3-d4886f8ee0a9",
   "metadata": {},
   "outputs": [
    {
     "data": {
      "text/plain": [
       "0"
      ]
     },
     "execution_count": 24,
     "metadata": {},
     "output_type": "execute_result"
    }
   ],
   "source": [
    "## Drop duplicate ids and confirm there are no more duplicates\n",
    "final_df = final_df.drop_duplicates(subset='id')\n",
    "final_df.duplicated(subset='id').sum()"
   ]
  },
  {
   "cell_type": "code",
   "execution_count": 25,
   "id": "1fcde216-af9c-429b-a466-8e5a15d0e3f4",
   "metadata": {},
   "outputs": [],
   "source": [
    "# save the final results to a compressed csv\n",
    "final_df.to_csv('Data/final_results_Austin_BBQ.csv.gz', compression='gzip',index=False)\n"
   ]
  },
  {
   "cell_type": "code",
   "execution_count": null,
   "id": "62a743c7-5a5b-478c-afca-4b69857d18ad",
   "metadata": {},
   "outputs": [],
   "source": []
  }
 ],
 "metadata": {
  "kernelspec": {
   "display_name": "Python (dojo-env)",
   "language": "python",
   "name": "dojo-env"
  },
  "language_info": {
   "codemirror_mode": {
    "name": "ipython",
    "version": 3
   },
   "file_extension": ".py",
   "mimetype": "text/x-python",
   "name": "python",
   "nbconvert_exporter": "python",
   "pygments_lexer": "ipython3",
   "version": "3.10.10"
  },
  "widgets": {
   "application/vnd.jupyter.widget-state+json": {
    "state": {
     "0335582754074a0a8298c342050297f8": {
      "model_module": "@jupyter-widgets/base",
      "model_module_version": "2.0.0",
      "model_name": "LayoutModel",
      "state": {}
     },
     "04bd7650c9a24906857dea9a5caf008a": {
      "model_module": "@jupyter-widgets/controls",
      "model_module_version": "2.0.0",
      "model_name": "HTMLStyleModel",
      "state": {
       "description_width": "",
       "font_size": null,
       "text_color": null
      }
     },
     "1561be69d8554f3989f2066cbfbf2276": {
      "model_module": "@jupyter-widgets/controls",
      "model_module_version": "2.0.0",
      "model_name": "FloatProgressModel",
      "state": {
       "bar_style": "danger",
       "layout": "IPY_MODEL_6cead515957c498696bfec9eaeb72ba1",
       "max": 115,
       "style": "IPY_MODEL_a81a2fa86a274266a1c30ad5bee64b58",
       "value": 49
      }
     },
     "2ff12d3233524b0aac4079d09f59c39c": {
      "model_module": "@jupyter-widgets/base",
      "model_module_version": "2.0.0",
      "model_name": "LayoutModel",
      "state": {}
     },
     "316a561562f94a7282358b27c95d9ad4": {
      "model_module": "@jupyter-widgets/controls",
      "model_module_version": "2.0.0",
      "model_name": "HTMLStyleModel",
      "state": {
       "description_width": "",
       "font_size": null,
       "text_color": null
      }
     },
     "33068b74d2b142a5a3138f04cfa87cc9": {
      "model_module": "@jupyter-widgets/controls",
      "model_module_version": "2.0.0",
      "model_name": "HBoxModel",
      "state": {
       "children": [
        "IPY_MODEL_4520c63ce4ec4f53bbf2007c62c832db",
        "IPY_MODEL_dc700ba7030e42b983e57baafbab99d7",
        "IPY_MODEL_3efc4848548c450fb76e0eb2ae9e57c9"
       ],
       "layout": "IPY_MODEL_8c523840009948a9aad3240ebbf99755"
      }
     },
     "3efc4848548c450fb76e0eb2ae9e57c9": {
      "model_module": "@jupyter-widgets/controls",
      "model_module_version": "2.0.0",
      "model_name": "HTMLModel",
      "state": {
       "layout": "IPY_MODEL_0335582754074a0a8298c342050297f8",
       "style": "IPY_MODEL_dd760f879b9a4295ab561a1e32717776",
       "value": " 115/115 [00:24&lt;00:00,  4.75it/s]"
      }
     },
     "4520c63ce4ec4f53bbf2007c62c832db": {
      "model_module": "@jupyter-widgets/controls",
      "model_module_version": "2.0.0",
      "model_name": "HTMLModel",
      "state": {
       "layout": "IPY_MODEL_83bab66b55a64482ba5f0992ad8410ae",
       "style": "IPY_MODEL_aef3d7e0e3e742d5a4014081b021c080",
       "value": "100%"
      }
     },
     "45aa7e5c74f84c21807f736f28076ff8": {
      "model_module": "@jupyter-widgets/controls",
      "model_module_version": "2.0.0",
      "model_name": "ProgressStyleModel",
      "state": {
       "description_width": ""
      }
     },
     "47ed1d78cff041e8be2f1faf1248fd7c": {
      "model_module": "@jupyter-widgets/controls",
      "model_module_version": "2.0.0",
      "model_name": "HTMLModel",
      "state": {
       "layout": "IPY_MODEL_2ff12d3233524b0aac4079d09f59c39c",
       "style": "IPY_MODEL_a0c79b51f7f64f6188f772b1ca0a3ccc",
       "value": " 49/115 [01:22&lt;02:12,  2.01s/it]"
      }
     },
     "541feece456a4005a1ce4f3efe6bea8e": {
      "model_module": "@jupyter-widgets/base",
      "model_module_version": "2.0.0",
      "model_name": "LayoutModel",
      "state": {}
     },
     "57b9dfa6c7a24c9db1795a297318c14e": {
      "model_module": "@jupyter-widgets/base",
      "model_module_version": "2.0.0",
      "model_name": "LayoutModel",
      "state": {}
     },
     "6812823656714f6d8c941ef7d3dbb6ca": {
      "model_module": "@jupyter-widgets/base",
      "model_module_version": "2.0.0",
      "model_name": "LayoutModel",
      "state": {}
     },
     "6cead515957c498696bfec9eaeb72ba1": {
      "model_module": "@jupyter-widgets/base",
      "model_module_version": "2.0.0",
      "model_name": "LayoutModel",
      "state": {}
     },
     "7473ce93747e42f182060f1db4e4b017": {
      "model_module": "@jupyter-widgets/controls",
      "model_module_version": "2.0.0",
      "model_name": "HTMLModel",
      "state": {
       "layout": "IPY_MODEL_6812823656714f6d8c941ef7d3dbb6ca",
       "style": "IPY_MODEL_04bd7650c9a24906857dea9a5caf008a",
       "value": " 43%"
      }
     },
     "7f9c84db7e234c62a6e0ed7e185c4614": {
      "model_module": "@jupyter-widgets/controls",
      "model_module_version": "2.0.0",
      "model_name": "HBoxModel",
      "state": {
       "children": [
        "IPY_MODEL_a0149eda81564969bc824f3664a3572e",
        "IPY_MODEL_f575300eb9324248b1ca0bf74354cd56",
        "IPY_MODEL_c5f648a6ae8a4b569061c07d24fd9f4e"
       ],
       "layout": "IPY_MODEL_82dd044157704010bc4e54e36560f6ec"
      }
     },
     "82dd044157704010bc4e54e36560f6ec": {
      "model_module": "@jupyter-widgets/base",
      "model_module_version": "2.0.0",
      "model_name": "LayoutModel",
      "state": {}
     },
     "83bab66b55a64482ba5f0992ad8410ae": {
      "model_module": "@jupyter-widgets/base",
      "model_module_version": "2.0.0",
      "model_name": "LayoutModel",
      "state": {}
     },
     "8c523840009948a9aad3240ebbf99755": {
      "model_module": "@jupyter-widgets/base",
      "model_module_version": "2.0.0",
      "model_name": "LayoutModel",
      "state": {}
     },
     "90c4dc91b88947c39e94727b739525c5": {
      "model_module": "@jupyter-widgets/base",
      "model_module_version": "2.0.0",
      "model_name": "LayoutModel",
      "state": {}
     },
     "a0149eda81564969bc824f3664a3572e": {
      "model_module": "@jupyter-widgets/controls",
      "model_module_version": "2.0.0",
      "model_name": "HTMLModel",
      "state": {
       "layout": "IPY_MODEL_90c4dc91b88947c39e94727b739525c5",
       "style": "IPY_MODEL_d0af24e0570845b2af8e39e2a59fccd3",
       "value": " 43%"
      }
     },
     "a0c79b51f7f64f6188f772b1ca0a3ccc": {
      "model_module": "@jupyter-widgets/controls",
      "model_module_version": "2.0.0",
      "model_name": "HTMLStyleModel",
      "state": {
       "description_width": "",
       "font_size": null,
       "text_color": null
      }
     },
     "a81a2fa86a274266a1c30ad5bee64b58": {
      "model_module": "@jupyter-widgets/controls",
      "model_module_version": "2.0.0",
      "model_name": "ProgressStyleModel",
      "state": {
       "description_width": ""
      }
     },
     "a90b0395aeac4675b3c414a0c657b4ee": {
      "model_module": "@jupyter-widgets/base",
      "model_module_version": "2.0.0",
      "model_name": "LayoutModel",
      "state": {}
     },
     "aa4ef290d662454b87d99dde86787ed8": {
      "model_module": "@jupyter-widgets/base",
      "model_module_version": "2.0.0",
      "model_name": "LayoutModel",
      "state": {}
     },
     "aef3d7e0e3e742d5a4014081b021c080": {
      "model_module": "@jupyter-widgets/controls",
      "model_module_version": "2.0.0",
      "model_name": "HTMLStyleModel",
      "state": {
       "description_width": "",
       "font_size": null,
       "text_color": null
      }
     },
     "c5f648a6ae8a4b569061c07d24fd9f4e": {
      "model_module": "@jupyter-widgets/controls",
      "model_module_version": "2.0.0",
      "model_name": "HTMLModel",
      "state": {
       "layout": "IPY_MODEL_a90b0395aeac4675b3c414a0c657b4ee",
       "style": "IPY_MODEL_316a561562f94a7282358b27c95d9ad4",
       "value": " 50/115 [01:18&lt;02:13,  2.06s/it]"
      }
     },
     "d0af24e0570845b2af8e39e2a59fccd3": {
      "model_module": "@jupyter-widgets/controls",
      "model_module_version": "2.0.0",
      "model_name": "HTMLStyleModel",
      "state": {
       "description_width": "",
       "font_size": null,
       "text_color": null
      }
     },
     "dc700ba7030e42b983e57baafbab99d7": {
      "model_module": "@jupyter-widgets/controls",
      "model_module_version": "2.0.0",
      "model_name": "FloatProgressModel",
      "state": {
       "bar_style": "success",
       "layout": "IPY_MODEL_541feece456a4005a1ce4f3efe6bea8e",
       "max": 115,
       "style": "IPY_MODEL_f5278068c3bf48349adae4e7dacd5240",
       "value": 115
      }
     },
     "dd760f879b9a4295ab561a1e32717776": {
      "model_module": "@jupyter-widgets/controls",
      "model_module_version": "2.0.0",
      "model_name": "HTMLStyleModel",
      "state": {
       "description_width": "",
       "font_size": null,
       "text_color": null
      }
     },
     "f285e0a2c0ba46a0807ad7420290a5a6": {
      "model_module": "@jupyter-widgets/controls",
      "model_module_version": "2.0.0",
      "model_name": "HBoxModel",
      "state": {
       "children": [
        "IPY_MODEL_7473ce93747e42f182060f1db4e4b017",
        "IPY_MODEL_1561be69d8554f3989f2066cbfbf2276",
        "IPY_MODEL_47ed1d78cff041e8be2f1faf1248fd7c"
       ],
       "layout": "IPY_MODEL_57b9dfa6c7a24c9db1795a297318c14e"
      }
     },
     "f5278068c3bf48349adae4e7dacd5240": {
      "model_module": "@jupyter-widgets/controls",
      "model_module_version": "2.0.0",
      "model_name": "ProgressStyleModel",
      "state": {
       "description_width": ""
      }
     },
     "f575300eb9324248b1ca0bf74354cd56": {
      "model_module": "@jupyter-widgets/controls",
      "model_module_version": "2.0.0",
      "model_name": "FloatProgressModel",
      "state": {
       "bar_style": "danger",
       "layout": "IPY_MODEL_aa4ef290d662454b87d99dde86787ed8",
       "max": 115,
       "style": "IPY_MODEL_45aa7e5c74f84c21807f736f28076ff8",
       "value": 50
      }
     }
    },
    "version_major": 2,
    "version_minor": 0
   }
  }
 },
 "nbformat": 4,
 "nbformat_minor": 5
}
