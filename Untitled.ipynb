{
 "cells": [
  {
   "cell_type": "markdown",
   "id": "212f6225-2fb8-4b16-a2af-091d17049af5",
   "metadata": {},
   "source": [
    "Our goal will be to\r\n",
    "\r\n",
    "Determine where to save our results and in what file forma\n",
    "t.\r\n",
    "Decide what subset of movies to retrieve (based on Year\n",
    "s).\r\n",
    "Develop code to make API calls based on our existing IMDB IDs with the INNER \n",
    "Loop\r\n",
    "Organize output by year into separate .json files using an OUTER\n",
    " -LOOP\r\n",
    "So let's consider what our process looks l*ike:\r\n",
    "\r\n",
    "The OUTER loop will loop through the start years included in the IMDB data, filter the title basics data for the selected year, and save the list of movie ids from that year to retrieve in the inn*er* loop.\r\n",
    "\r\n",
    "The INNER loop loops through every movie id from the selected year, extracts its results from the TMDB API, and appends them to a *JS**ON file.\r\n",
    "\r\n",
    "BEFORE **\n",
    "e-ither Loop:\r\n",
    "Designate and folder to save your- information\r\n",
    "Load the title basics csv with the movie data and IMDB movie ids (the \"tco-nst\" column).\r\n",
    "Define and test any custom functions- you will use.\r\n",
    "Create a list of the years you wish to retrieve from the\n",
    " starting data.\r",
    "-\n",
    "The OUTER Loop:\r\n",
    "Create an OUTER loop to loop through each year in your list of years, using a progress bar us-ing tqdm_notebook\r\n",
    "Define a JSON filename that includes the year in the filename. This is where you will save the re\n",
    "sults in progress.\r\n",
    "Since this workflow is designed to avoid repeating API calls, we assume there's a chance that we already have a file with some of the results fro    -m a prior session.\r\n",
    "\r\n",
    "Therefore, we will check if the JSON file for        - the year exists and:\r\n",
    "If it does not, we will create an empty JSON file with a placeholder diction            -ary, using with open .\r\n",
    "Fill the new JSON file with a dictionary with single key for \"imdb_id\" and a placeholder value of 0        -. (e.g. {'imdb_id':0}).\r\n",
    "If it does exist, we will print a message that \n",
    "the file already exists.\r\n",
    "Now that the JSON file for the res-ults in progress exists:\r\n",
    "\r\n",
    "Filter the IMDB title basics data for the selected year and save the movie IDs from- that year as \"movies_ids\".\r\n",
    "Check the JSON file for previously downloaded movie IDs and filter out the movie ids that already exists in the JSON file ( to prev    -ent duplicate API calls) by:\r\n",
    "Loading in the contents o    -f the JSON file pd.read_json.\r\n",
    "Compare the movie_ids that were in the JSON file t    -o your saved movie_ids_to_get.\r\n",
    "Save the final list of \"movie_ids_to_get\" by filtering out movies that a\n",
    "lready exists in the JSON file.\r\n",
    "Now that you have your list of movie_ids_to_get for the selected year, you're ready for - the inner loop.\r\n",
    "\r\n",
    "The INNER Loop:\r\n",
    "Create an INNER loop to make API calls for each id in the movie_ids_to- g_get specified in     -the outer loop.\r\n",
    "\r\n",
    "For each movie id:\r\n",
    "Extract the current ID from API and extract the resul        -ts dictionary using a custom function.\r\n",
    "Note: you created this f    -unction as part of the previous lesson.\r\n",
    "Append the ne    -w results to the list from the JSON file\r\n",
    "Sa\n",
    "ve the updated JSON file back-  to the disk\r\n",
    "At the End of the Inner Loop\r\n",
    "After the inner loop, shift+tab the next line of code to the left, so that it is out of the i- nner loop, but still within the outer loop:\r\n",
    "Load the JSON_FILE one last time into a DataFrame with pd.read_json, and then save the final results for the year as a csv.gz\n",
    "- file that includes the year in the filename.\r\n",
    "Then, the outer loop repeats for the remaining years.\r\n",
    "\r\n",
    "Don't worry if you can't quite picture it yet. We will walk you through some of the code and you will have a chance to practice the inner loop of API calls before you apply it to your project in the next practice assignment."
   ]
  },
  {
   "cell_type": "code",
   "execution_count": null,
   "id": "ec650090-6850-49a5-8109-58f6310a11f9",
   "metadata": {},
   "outputs": [],
   "source": []
  }
 ],
 "metadata": {
  "kernelspec": {
   "display_name": "Python (dojo-env)",
   "language": "python",
   "name": "dojo-env"
  },
  "language_info": {
   "codemirror_mode": {
    "name": "ipython",
    "version": 3
   },
   "file_extension": ".py",
   "mimetype": "text/x-python",
   "name": "python",
   "nbconvert_exporter": "python",
   "pygments_lexer": "ipython3",
   "version": "3.10.10"
  },
  "widgets": {
   "application/vnd.jupyter.widget-state+json": {
    "state": {},
    "version_major": 2,
    "version_minor": 0
   }
  }
 },
 "nbformat": 4,
 "nbformat_minor": 5
}
